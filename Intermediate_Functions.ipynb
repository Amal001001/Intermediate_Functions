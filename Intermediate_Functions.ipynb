{
 "cells": [
  {
   "cell_type": "markdown",
   "id": "a283a35f",
   "metadata": {},
   "source": [
    "# Intermediate Functions"
   ]
  },
  {
   "cell_type": "markdown",
   "id": "ec3d23de",
   "metadata": {},
   "source": [
    "### 1) Update Values in Dictionaries and Lists"
   ]
  },
  {
   "cell_type": "code",
   "execution_count": 2,
   "id": "3706e20d",
   "metadata": {},
   "outputs": [],
   "source": [
    "x = [ [5,2,3], [10,8,9] ]\n",
    "\n",
    "students = [\n",
    "     {'first_name':  'Michael', 'last_name' : 'Jordan'},\n",
    "     {'first_name' : 'John', 'last_name' : 'Rosales'}\n",
    "]\n",
    "\n",
    "sports_directory = {\n",
    "    'basketball' : ['Kobe', 'Jordan', 'James', 'Curry'],\n",
    "    'soccer' : ['Messi', 'Ronaldo', 'Rooney']\n",
    "}\n",
    "\n",
    "z = [ {'x': 10, 'y': 20} ]"
   ]
  },
  {
   "cell_type": "markdown",
   "id": "7ca78b14",
   "metadata": {},
   "source": [
    "1. Change the value 10 in x to 15. Once you're done, x should now be [ [5,2,3], [15,8,9] ]."
   ]
  },
  {
   "cell_type": "code",
   "execution_count": 10,
   "id": "5a08152f",
   "metadata": {},
   "outputs": [],
   "source": [
    "x[1][0] = 15"
   ]
  },
  {
   "cell_type": "code",
   "execution_count": 11,
   "id": "a9e6efce",
   "metadata": {},
   "outputs": [
    {
     "name": "stdout",
     "output_type": "stream",
     "text": [
      "[[5, 2, 3], [15, 8, 9]]\n"
     ]
    }
   ],
   "source": [
    "print(x)"
   ]
  },
  {
   "cell_type": "markdown",
   "id": "0b8c6937",
   "metadata": {},
   "source": [
    "2. Change the last_name of the first student from 'Jordan' to 'Bryant'"
   ]
  },
  {
   "cell_type": "code",
   "execution_count": 12,
   "id": "4f475a97",
   "metadata": {},
   "outputs": [],
   "source": [
    "students[0]['last_name'] = 'Bryant'"
   ]
  },
  {
   "cell_type": "code",
   "execution_count": 13,
   "id": "f5edef42",
   "metadata": {},
   "outputs": [
    {
     "name": "stdout",
     "output_type": "stream",
     "text": [
      "[{'first_name': 'Michael', 'last_name': 'Bryant'}, {'first_name': 'John', 'last_name': 'Rosales'}]\n"
     ]
    }
   ],
   "source": [
    "print(students)"
   ]
  },
  {
   "cell_type": "markdown",
   "id": "44b5b1ea",
   "metadata": {},
   "source": [
    "3. In the sports_directory, change 'Messi' to 'Andres'"
   ]
  },
  {
   "cell_type": "code",
   "execution_count": 14,
   "id": "c2530cbf",
   "metadata": {},
   "outputs": [],
   "source": [
    "sports_directory['soccer'][0] = 'Andres'"
   ]
  },
  {
   "cell_type": "code",
   "execution_count": 15,
   "id": "b4ae1a14",
   "metadata": {},
   "outputs": [
    {
     "name": "stdout",
     "output_type": "stream",
     "text": [
      "{'basketball': ['Kobe', 'Jordan', 'James', 'Curry'], 'soccer': ['Andres', 'Ronaldo', 'Rooney']}\n"
     ]
    }
   ],
   "source": [
    "print(sports_directory)"
   ]
  },
  {
   "cell_type": "markdown",
   "id": "5cbc6ae2",
   "metadata": {},
   "source": [
    "4. Change the value 20 in z to 30"
   ]
  },
  {
   "cell_type": "code",
   "execution_count": 16,
   "id": "25834815",
   "metadata": {},
   "outputs": [],
   "source": [
    "z[0]['y'] = 30"
   ]
  },
  {
   "cell_type": "code",
   "execution_count": 17,
   "id": "01f42d92",
   "metadata": {},
   "outputs": [
    {
     "name": "stdout",
     "output_type": "stream",
     "text": [
      "[{'x': 10, 'y': 30}]\n"
     ]
    }
   ],
   "source": [
    "print(z)"
   ]
  },
  {
   "cell_type": "markdown",
   "id": "3ba8acf1",
   "metadata": {},
   "source": [
    "### 2) Iterate Through a List of Dictionaries"
   ]
  },
  {
   "cell_type": "markdown",
   "id": "d9e8f4fd",
   "metadata": {},
   "source": [
    "Create a function iterateDictionary(some_list) that, given a list of dictionaries, the function loops through each dictionary in the list and prints each key and the associated value."
   ]
  },
  {
   "cell_type": "code",
   "execution_count": 26,
   "id": "861b1050",
   "metadata": {},
   "outputs": [
    {
     "name": "stdout",
     "output_type": "stream",
     "text": [
      "first_name - Michael\n",
      "last_name - Jordan\n",
      "first_name - John\n",
      "last_name - Rosales\n",
      "first_name - Mark\n",
      "last_name - Guillen\n",
      "first_name - KB\n",
      "last_name - Tonel\n"
     ]
    }
   ],
   "source": [
    "def iterateDictionary(list_input):\n",
    "    \n",
    "    for x in list_input:\n",
    "        for key, val in x.items():\n",
    "            print(f'{key} - {val}')\n",
    "\n",
    "            \n",
    "students = [\n",
    "    {'first_name': 'Michael', 'last_name' : 'Jordan'},\n",
    "    {'first_name' : 'John', 'last_name' : 'Rosales'},\n",
    "    {'first_name' : 'Mark', 'last_name' : 'Guillen'},\n",
    "    {'first_name' : 'KB', 'last_name' : 'Tonel'}\n",
    "]\n",
    "\n",
    "iterateDictionary(students)       "
   ]
  },
  {
   "cell_type": "markdown",
   "id": "e3df6640",
   "metadata": {},
   "source": [
    "### 3) Get Values From a List of Dictionaries"
   ]
  },
  {
   "cell_type": "markdown",
   "id": "dd875e96",
   "metadata": {},
   "source": [
    "Create a function iterateDictionary2(key_name, some_list) that, given a list of dictionaries and a key name, the function prints the value stored in that key for each dictionary."
   ]
  },
  {
   "cell_type": "code",
   "execution_count": 32,
   "id": "c0854628",
   "metadata": {},
   "outputs": [
    {
     "name": "stdout",
     "output_type": "stream",
     "text": [
      "Michael\n",
      "John\n",
      "Mark\n",
      "KB\n"
     ]
    }
   ],
   "source": [
    "def iterateDictionary2(key_name, list_input):\n",
    "      \n",
    "    for x in list_input:\n",
    "        for key in x.keys():\n",
    "            if (key == key_name):\n",
    "                print(x[key_name])\n",
    "\n",
    "            \n",
    "students = [\n",
    "    {'first_name': 'Michael', 'last_name' : 'Jordan'},\n",
    "    {'first_name' : 'John', 'last_name' : 'Rosales'},\n",
    "    {'first_name' : 'Mark', 'last_name' : 'Guillen'},\n",
    "    {'first_name' : 'KB', 'last_name' : 'Tonel'}\n",
    "]\n",
    "\n",
    "iterateDictionary2('first_name',students)"
   ]
  },
  {
   "cell_type": "code",
   "execution_count": 33,
   "id": "ac65cab8",
   "metadata": {},
   "outputs": [
    {
     "name": "stdout",
     "output_type": "stream",
     "text": [
      "Jordan\n",
      "Rosales\n",
      "Guillen\n",
      "Tonel\n"
     ]
    }
   ],
   "source": [
    "iterateDictionary2('last_name', students)"
   ]
  },
  {
   "cell_type": "markdown",
   "id": "ec9f4481",
   "metadata": {},
   "source": [
    "### 4) Iterate Through a Dictionary with List Values"
   ]
  },
  {
   "cell_type": "markdown",
   "id": "033dd0ea",
   "metadata": {},
   "source": [
    "Create a function printInfo(some_dict) that given a dictionary whose values are all lists, prints the name of each key along with the size of its list, and then prints the associated values within each key's list."
   ]
  },
  {
   "cell_type": "code",
   "execution_count": 48,
   "id": "fb80a3b4",
   "metadata": {},
   "outputs": [
    {
     "name": "stdout",
     "output_type": "stream",
     "text": [
      "7 locations\n",
      "San Jose\n",
      "Seattle\n",
      "Dallas\n",
      "Chicago\n",
      "Tulsa\n",
      "DC\n",
      "Burbank\n",
      "\n",
      "8 instructors\n",
      "Michael\n",
      "Amy\n",
      "Eduardo\n",
      "Josh\n",
      "Graham\n",
      "Patrick\n",
      "Minh\n",
      "Devon\n",
      "\n"
     ]
    }
   ],
   "source": [
    "def printInfo(dict_input):\n",
    "    \n",
    "    for key, val in dict_input.items():\n",
    "        print(len(val), key)\n",
    "        for val in dict_input[key]:\n",
    "            print(val)\n",
    "        print('')\n",
    "    \n",
    "dojo = {\n",
    "   'locations': ['San Jose', 'Seattle', 'Dallas', 'Chicago', 'Tulsa', 'DC', 'Burbank'],\n",
    "   'instructors': ['Michael', 'Amy', 'Eduardo', 'Josh', 'Graham', 'Patrick', 'Minh', 'Devon']\n",
    "}\n",
    "\n",
    "printInfo(dojo)"
   ]
  }
 ],
 "metadata": {
  "kernelspec": {
   "display_name": "Python 3 (ipykernel)",
   "language": "python",
   "name": "python3"
  },
  "language_info": {
   "codemirror_mode": {
    "name": "ipython",
    "version": 3
   },
   "file_extension": ".py",
   "mimetype": "text/x-python",
   "name": "python",
   "nbconvert_exporter": "python",
   "pygments_lexer": "ipython3",
   "version": "3.9.12"
  }
 },
 "nbformat": 4,
 "nbformat_minor": 5
}
